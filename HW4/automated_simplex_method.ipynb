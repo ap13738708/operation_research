{
 "cells": [
  {
   "cell_type": "code",
   "execution_count": 138,
   "metadata": {},
   "outputs": [],
   "source": [
    "import numpy as np"
   ]
  },
  {
   "cell_type": "code",
   "execution_count": 139,
   "metadata": {},
   "outputs": [],
   "source": [
    "def pivot(A, BV, r, c):\n",
    "    A = np.array(A)\n",
    "    A = A.astype(float)\n",
    "    A[r, :] = A[r, :] / A[r, c]\n",
    "    rows = len(A)\n",
    "    for i in range(rows):\n",
    "        if i != r:\n",
    "            A[i, :] = A[i, :] - A[i, c] * A[r, :]\n",
    "    BV[r - 1] = c\n",
    "    return A, BV"
   ]
  },
  {
   "cell_type": "code",
   "execution_count": 160,
   "metadata": {},
   "outputs": [],
   "source": [
    "A = [\n",
    "    [1, -5, -4, -3, 0, 0, 0, 0],\n",
    "    [0, 2, 3, 1, 1, 0, 0, 5],\n",
    "    [0, 4, 1, 2, 0, 1, 0, 11],\n",
    "    [0, 3, 4, 2, 0, 0, 1, 8]\n",
    "]\n",
    "\n",
    "BV = [4, 5, 6]\n",
    "\n",
    "def simplex_method(A, BV):\n",
    "    matrix = np.array(A)\n",
    "    matrix = matrix.astype(float)\n",
    "    print matrix\n",
    "    basic_var_pos = BV[:]\n",
    "    \n",
    "    while True:\n",
    "        \n",
    "        temp = matrix[0][ matrix[0] != 0 ]\n",
    "        if all(i > 0 for i in temp[1 : len(temp)]):\n",
    "            break\n",
    "        \n",
    "        idx_min = np.argmin(matrix[0])\n",
    "        print 'index : {}'.format(idx_min)\n",
    "        \n",
    "        check_pivot = map(lambda row: row[-1]/row[idx_min], matrix[1: len(matrix)])\n",
    "        check_pivot = np.array(check_pivot)\n",
    "        print 'check pivot : {}'.format(check_pivot)\n",
    "        \n",
    "        row_to_pivot = np.where(check_pivot == min(check_pivot[ check_pivot >= 0]))[0][0] + 1\n",
    "        print 'row: {}'.format(row_to_pivot)\n",
    "        \n",
    "        matrix, basic_var_pos = pivot(matrix, basic_var_pos, row_to_pivot, idx_min) \n",
    "        \n",
    "        print matrix, basic_var_pos\n",
    "        "
   ]
  },
  {
   "cell_type": "code",
   "execution_count": 141,
   "metadata": {},
   "outputs": [
    {
     "name": "stdout",
     "output_type": "stream",
     "text": [
      "[[ 1. -5. -4. -3.  0.  0.  0.  0.]\n",
      " [ 0.  2.  3.  1.  1.  0.  0.  5.]\n",
      " [ 0.  4.  1.  2.  0.  1.  0. 11.]\n",
      " [ 0.  3.  4.  2.  0.  0.  1.  8.]]\n",
      "index : 1\n",
      "check pivot : [2.5, 2.75, 2.6666666666666665]\n",
      "row: 1\n",
      "[[ 1.   0.   3.5 -0.5  2.5  0.   0.  12.5]\n",
      " [ 0.   1.   1.5  0.5  0.5  0.   0.   2.5]\n",
      " [ 0.   0.  -5.   0.  -2.   1.   0.   1. ]\n",
      " [ 0.   0.  -0.5  0.5 -1.5  0.   1.   0.5]] [1, 5, 6]\n",
      "index : 3\n",
      "check pivot : [5.0, inf, 1.0]\n",
      "row: 3\n",
      "[[ 1.  0.  3.  0.  1.  0.  1. 13.]\n",
      " [ 0.  1.  2.  0.  2.  0. -1.  2.]\n",
      " [ 0.  0. -5.  0. -2.  1.  0.  1.]\n",
      " [ 0.  0. -1.  1. -3.  0.  2.  1.]] [1, 5, 3]\n",
      "2\n"
     ]
    },
    {
     "name": "stderr",
     "output_type": "stream",
     "text": [
      "/anaconda3/envs/opt_research/lib/python2.7/site-packages/ipykernel_launcher.py:26: RuntimeWarning: divide by zero encountered in double_scalars\n"
     ]
    }
   ],
   "source": [
    "simplex_method(A, BV)"
   ]
  },
  {
   "cell_type": "code",
   "execution_count": 91,
   "metadata": {},
   "outputs": [
    {
     "data": {
      "text/plain": [
       "array([[ 1., -5., -4., -3.,  0.,  0.,  0.,  0.],\n",
       "       [ 0.,  2.,  3.,  1.,  1.,  0.,  0.,  5.],\n",
       "       [ 0.,  4.,  1.,  2.,  0.,  1.,  0., 11.],\n",
       "       [ 0.,  3.,  4.,  2.,  0.,  0.,  1.,  8.]])"
      ]
     },
     "execution_count": 91,
     "metadata": {},
     "output_type": "execute_result"
    }
   ],
   "source": [
    "test = [\n",
    "    [1, -5, -4, -3, 0, 0, 0, 0],\n",
    "    [0, 2, 3, 1, 1, 0, 0, 5],\n",
    "    [0, 4, 1, 2, 0, 1, 0, 11],\n",
    "    [0, 3, 4, 2, 0, 0, 1, 8]\n",
    "]\n",
    "test = np.array(test)\n",
    "test = test.astype(float)\n",
    "test"
   ]
  },
  {
   "cell_type": "code",
   "execution_count": 161,
   "metadata": {},
   "outputs": [
    {
     "name": "stdout",
     "output_type": "stream",
     "text": [
      "[[  1. -10.  -6. -15.   0.   0.   0.   0.]\n",
      " [  0.   1.   1.   3.   1.   0.   0.   2.]\n",
      " [  0.  -1.  -2.  -4.   0.   1.   0.   3.]\n",
      " [  0.   1.   3.   5.   0.   0.   1.   4.]]\n",
      "index : 3\n",
      "check pivot : [ 0.66666667 -0.75        0.8       ]\n",
      "row: 1\n",
      "[[ 1.         -5.         -1.          0.          5.          0.\n",
      "   0.         10.        ]\n",
      " [ 0.          0.33333333  0.33333333  1.          0.33333333  0.\n",
      "   0.          0.66666667]\n",
      " [ 0.          0.33333333 -0.66666667  0.          1.33333333  1.\n",
      "   0.          5.66666667]\n",
      " [ 0.         -0.66666667  1.33333333  0.         -1.66666667  0.\n",
      "   1.          0.66666667]] [3, 5, 6]\n",
      "index : 1\n",
      "check pivot : [ 2. 17. -1.]\n",
      "row: 1\n",
      "[[ 1.  0.  4. 15. 10.  0.  0. 20.]\n",
      " [ 0.  1.  1.  3.  1.  0.  0.  2.]\n",
      " [ 0.  0. -1. -1.  1.  1.  0.  5.]\n",
      " [ 0.  0.  2.  2. -1.  0.  1.  2.]] [1, 5, 6]\n",
      "2\n"
     ]
    }
   ],
   "source": [
    "dual_problem = np.array([\n",
    "    [1, -10, -6, -15, 0, 0, 0, 0],  # --> objective function\n",
    "    [0, 1, 1, 3, 1, 0, 0, 2],  # --> constraint 1\n",
    "    [0, -1, -2, -4, 0, 1, 0, 3],  # --> constraint 2\n",
    "    [0, 1, 3, 5, 0, 0, 1, 4]  # --> constraint 3\n",
    "])\n",
    "basic = [4, 5, 6]\n",
    "simplex_method(dual_problem, basic)"
   ]
  },
  {
   "cell_type": "code",
   "execution_count": 163,
   "metadata": {},
   "outputs": [
    {
     "name": "stdout",
     "output_type": "stream",
     "text": [
      "[[  1. -10. -11.   0.   0.   0.   0.]\n",
      " [  0.   3.   4.   1.   0.   0.   9.]\n",
      " [  0.   5.   2.   0.   1.   0.   8.]\n",
      " [  0.   1.  -2.   0.   0.   1.   1.]]\n",
      "index : 2\n",
      "check pivot : [ 2.25  4.   -0.5 ]\n",
      "row: 1\n",
      "[[ 1.   -1.75  0.    2.75  0.    0.   24.75]\n",
      " [ 0.    0.75  1.    0.25  0.    0.    2.25]\n",
      " [ 0.    3.5   0.   -0.5   1.    0.    3.5 ]\n",
      " [ 0.    2.5   0.    0.5   0.    1.    5.5 ]] [2, 4, 5]\n",
      "index : 1\n",
      "check pivot : [3.  1.  2.2]\n",
      "row: 2\n",
      "[[ 1.          0.          0.          2.5         0.5         0.\n",
      "  26.5       ]\n",
      " [ 0.          0.          1.          0.35714286 -0.21428571  0.\n",
      "   1.5       ]\n",
      " [ 0.          1.          0.         -0.14285714  0.28571429  0.\n",
      "   1.        ]\n",
      " [ 0.          0.          0.          0.85714286 -0.71428571  1.\n",
      "   3.        ]] [2, 1, 5]\n",
      "2\n"
     ]
    }
   ],
   "source": [
    "test2 = [\n",
    "    [1, -10, -11, 0, 0, 0, 0],\n",
    "    [0, 3, 4, 1, 0, 0, 9],\n",
    "    [0, 5, 2, 0, 1, 0, 8],\n",
    "    [0, 1, -2, 0, 0, 1, 1]\n",
    "]\n",
    "basic = [3, 4, 5]\n",
    "simplex_method(test2, basic)"
   ]
  }
 ],
 "metadata": {
  "kernelspec": {
   "display_name": "Python 2",
   "language": "python",
   "name": "python2"
  },
  "language_info": {
   "codemirror_mode": {
    "name": "ipython",
    "version": 2
   },
   "file_extension": ".py",
   "mimetype": "text/x-python",
   "name": "python",
   "nbconvert_exporter": "python",
   "pygments_lexer": "ipython2",
   "version": "2.7.15"
  }
 },
 "nbformat": 4,
 "nbformat_minor": 2
}
